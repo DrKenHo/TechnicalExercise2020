{
 "cells": [
  {
   "cell_type": "code",
   "execution_count": 1,
   "metadata": {},
   "outputs": [],
   "source": [
    "import random\n",
    "import itertools\n",
    "\n",
    "class Deck:\n",
    "    def __init__(self):\n",
    "        # cards are represented by an index. Easiest to sort and shuffle.\n",
    "        self.cardindices = list(range(52))\n",
    "        # cards are indexed based on suits.\n",
    "        self.cards = list(itertools.product(['club', 'diamond', 'heart', 'spade'], [*range(2,11), *'JQKA']))\n",
    "        # dealt can be used to store all the cards that have been dealt\n",
    "        self.dealt = []\n",
    "    def shuffle(self):\n",
    "        random.shuffle(self.cardindices)\n",
    "    def sort(self):\n",
    "        self.cardindices.sort()\n",
    "    def deal(self):\n",
    "        dealcard_i = self.cardindices.pop()\n",
    "        self.dealt.append(dealcard_i)\n",
    "        return self.cards[dealcard_i]\n",
    "    def show_dealt(self):\n",
    "        for i in self.dealt:\n",
    "            print(self.cards[i])\n",
    "    def show_deck(self):\n",
    "        for i in self.cardindices:\n",
    "            print(self.cards[i])\n",
    "    def show_no_of_cards(self):\n",
    "        return len(self.cardindices)"
   ]
  },
  {
   "cell_type": "code",
   "execution_count": 2,
   "metadata": {},
   "outputs": [],
   "source": [
    "deck = Deck()"
   ]
  },
  {
   "cell_type": "code",
   "execution_count": 3,
   "metadata": {},
   "outputs": [
    {
     "name": "stdout",
     "output_type": "stream",
     "text": [
      "('club', 2)\n",
      "('club', 3)\n",
      "('club', 4)\n",
      "('club', 5)\n",
      "('club', 6)\n",
      "('club', 7)\n",
      "('club', 8)\n",
      "('club', 9)\n",
      "('club', 10)\n",
      "('club', 'J')\n",
      "('club', 'Q')\n",
      "('club', 'K')\n",
      "('club', 'A')\n",
      "('diamond', 2)\n",
      "('diamond', 3)\n",
      "('diamond', 4)\n",
      "('diamond', 5)\n",
      "('diamond', 6)\n",
      "('diamond', 7)\n",
      "('diamond', 8)\n",
      "('diamond', 9)\n",
      "('diamond', 10)\n",
      "('diamond', 'J')\n",
      "('diamond', 'Q')\n",
      "('diamond', 'K')\n",
      "('diamond', 'A')\n",
      "('heart', 2)\n",
      "('heart', 3)\n",
      "('heart', 4)\n",
      "('heart', 5)\n",
      "('heart', 6)\n",
      "('heart', 7)\n",
      "('heart', 8)\n",
      "('heart', 9)\n",
      "('heart', 10)\n",
      "('heart', 'J')\n",
      "('heart', 'Q')\n",
      "('heart', 'K')\n",
      "('heart', 'A')\n",
      "('spade', 2)\n",
      "('spade', 3)\n",
      "('spade', 4)\n",
      "('spade', 5)\n",
      "('spade', 6)\n",
      "('spade', 7)\n",
      "('spade', 8)\n",
      "('spade', 9)\n",
      "('spade', 10)\n",
      "('spade', 'J')\n",
      "('spade', 'Q')\n",
      "('spade', 'K')\n",
      "('spade', 'A')\n"
     ]
    }
   ],
   "source": [
    "deck.show_deck()"
   ]
  },
  {
   "cell_type": "code",
   "execution_count": 4,
   "metadata": {},
   "outputs": [
    {
     "data": {
      "text/plain": [
       "('spade', 'A')"
      ]
     },
     "execution_count": 4,
     "metadata": {},
     "output_type": "execute_result"
    }
   ],
   "source": [
    "deck.deal()"
   ]
  },
  {
   "cell_type": "code",
   "execution_count": 5,
   "metadata": {},
   "outputs": [
    {
     "data": {
      "text/plain": [
       "('spade', 'K')"
      ]
     },
     "execution_count": 5,
     "metadata": {},
     "output_type": "execute_result"
    }
   ],
   "source": [
    "deck.deal()"
   ]
  },
  {
   "cell_type": "code",
   "execution_count": 6,
   "metadata": {},
   "outputs": [],
   "source": [
    "deck.shuffle()"
   ]
  },
  {
   "cell_type": "code",
   "execution_count": 7,
   "metadata": {},
   "outputs": [
    {
     "name": "stdout",
     "output_type": "stream",
     "text": [
      "('heart', 10)\n",
      "('club', 'J')\n",
      "('diamond', 10)\n",
      "('spade', 5)\n",
      "('heart', 'K')\n",
      "('heart', 'J')\n",
      "('spade', 9)\n",
      "('heart', 6)\n",
      "('spade', 6)\n",
      "('heart', 9)\n",
      "('heart', 3)\n",
      "('heart', 'Q')\n",
      "('club', 2)\n",
      "('diamond', 6)\n",
      "('club', 9)\n",
      "('diamond', 'Q')\n",
      "('spade', 3)\n",
      "('spade', 4)\n",
      "('club', 7)\n",
      "('spade', 7)\n",
      "('heart', 2)\n",
      "('heart', 8)\n",
      "('heart', 4)\n",
      "('diamond', 3)\n",
      "('spade', 'J')\n",
      "('spade', 2)\n",
      "('diamond', 5)\n",
      "('diamond', 8)\n",
      "('club', 'A')\n",
      "('spade', 10)\n",
      "('club', 10)\n",
      "('diamond', 'K')\n",
      "('club', 5)\n",
      "('club', 'K')\n",
      "('diamond', 'J')\n",
      "('heart', 'A')\n",
      "('spade', 'Q')\n",
      "('club', 3)\n",
      "('club', 4)\n",
      "('diamond', 4)\n",
      "('heart', 5)\n",
      "('diamond', 'A')\n",
      "('diamond', 7)\n",
      "('diamond', 2)\n",
      "('spade', 8)\n",
      "('heart', 7)\n",
      "('club', 'Q')\n",
      "('diamond', 9)\n",
      "('club', 6)\n",
      "('club', 8)\n"
     ]
    }
   ],
   "source": [
    "deck.show_deck()"
   ]
  },
  {
   "cell_type": "code",
   "execution_count": 8,
   "metadata": {},
   "outputs": [
    {
     "data": {
      "text/plain": [
       "('club', 8)"
      ]
     },
     "execution_count": 8,
     "metadata": {},
     "output_type": "execute_result"
    }
   ],
   "source": [
    "deck.deal()"
   ]
  },
  {
   "cell_type": "code",
   "execution_count": 9,
   "metadata": {},
   "outputs": [
    {
     "data": {
      "text/plain": [
       "('club', 6)"
      ]
     },
     "execution_count": 9,
     "metadata": {},
     "output_type": "execute_result"
    }
   ],
   "source": [
    "deck.deal()"
   ]
  },
  {
   "cell_type": "code",
   "execution_count": 10,
   "metadata": {},
   "outputs": [
    {
     "data": {
      "text/plain": [
       "('diamond', 9)"
      ]
     },
     "execution_count": 10,
     "metadata": {},
     "output_type": "execute_result"
    }
   ],
   "source": [
    "deck.deal()"
   ]
  },
  {
   "cell_type": "code",
   "execution_count": 11,
   "metadata": {},
   "outputs": [
    {
     "name": "stdout",
     "output_type": "stream",
     "text": [
      "('spade', 'A')\n",
      "('spade', 'K')\n",
      "('club', 8)\n",
      "('club', 6)\n",
      "('diamond', 9)\n"
     ]
    }
   ],
   "source": [
    "deck.show_dealt()"
   ]
  },
  {
   "cell_type": "code",
   "execution_count": 12,
   "metadata": {},
   "outputs": [],
   "source": [
    "deck.sort()"
   ]
  },
  {
   "cell_type": "code",
   "execution_count": 13,
   "metadata": {},
   "outputs": [
    {
     "name": "stdout",
     "output_type": "stream",
     "text": [
      "('club', 2)\n",
      "('club', 3)\n",
      "('club', 4)\n",
      "('club', 5)\n",
      "('club', 7)\n",
      "('club', 9)\n",
      "('club', 10)\n",
      "('club', 'J')\n",
      "('club', 'Q')\n",
      "('club', 'K')\n",
      "('club', 'A')\n",
      "('diamond', 2)\n",
      "('diamond', 3)\n",
      "('diamond', 4)\n",
      "('diamond', 5)\n",
      "('diamond', 6)\n",
      "('diamond', 7)\n",
      "('diamond', 8)\n",
      "('diamond', 10)\n",
      "('diamond', 'J')\n",
      "('diamond', 'Q')\n",
      "('diamond', 'K')\n",
      "('diamond', 'A')\n",
      "('heart', 2)\n",
      "('heart', 3)\n",
      "('heart', 4)\n",
      "('heart', 5)\n",
      "('heart', 6)\n",
      "('heart', 7)\n",
      "('heart', 8)\n",
      "('heart', 9)\n",
      "('heart', 10)\n",
      "('heart', 'J')\n",
      "('heart', 'Q')\n",
      "('heart', 'K')\n",
      "('heart', 'A')\n",
      "('spade', 2)\n",
      "('spade', 3)\n",
      "('spade', 4)\n",
      "('spade', 5)\n",
      "('spade', 6)\n",
      "('spade', 7)\n",
      "('spade', 8)\n",
      "('spade', 9)\n",
      "('spade', 10)\n",
      "('spade', 'J')\n",
      "('spade', 'Q')\n"
     ]
    }
   ],
   "source": [
    "deck.show_deck()"
   ]
  },
  {
   "cell_type": "code",
   "execution_count": 14,
   "metadata": {},
   "outputs": [
    {
     "name": "stdout",
     "output_type": "stream",
     "text": [
      "('spade', 'A')\n",
      "('spade', 'K')\n",
      "('club', 8)\n",
      "('club', 6)\n",
      "('diamond', 9)\n"
     ]
    }
   ],
   "source": [
    "deck.show_dealt()"
   ]
  },
  {
   "cell_type": "code",
   "execution_count": 15,
   "metadata": {},
   "outputs": [
    {
     "data": {
      "text/plain": [
       "47"
      ]
     },
     "execution_count": 15,
     "metadata": {},
     "output_type": "execute_result"
    }
   ],
   "source": [
    "deck.show_no_of_cards()"
   ]
  },
  {
   "cell_type": "code",
   "execution_count": null,
   "metadata": {},
   "outputs": [],
   "source": []
  }
 ],
 "metadata": {
  "kernelspec": {
   "display_name": "Python 3",
   "language": "python",
   "name": "python3"
  },
  "language_info": {
   "codemirror_mode": {
    "name": "ipython",
    "version": 3
   },
   "file_extension": ".py",
   "mimetype": "text/x-python",
   "name": "python",
   "nbconvert_exporter": "python",
   "pygments_lexer": "ipython3",
   "version": "3.6.9"
  }
 },
 "nbformat": 4,
 "nbformat_minor": 4
}
