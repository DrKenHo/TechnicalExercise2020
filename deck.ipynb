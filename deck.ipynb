{
  "nbformat": 4,
  "nbformat_minor": 0,
  "metadata": {
    "kernelspec": {
      "display_name": "Python 3",
      "language": "python",
      "name": "python3"
    },
    "language_info": {
      "codemirror_mode": {
        "name": "ipython",
        "version": 3
      },
      "file_extension": ".py",
      "mimetype": "text/x-python",
      "name": "python",
      "nbconvert_exporter": "python",
      "pygments_lexer": "ipython3",
      "version": "3.6.9"
    },
    "colab": {
      "name": "deck.ipynb",
      "provenance": [],
      "include_colab_link": true
    }
  },
  "cells": [
    {
      "cell_type": "markdown",
      "metadata": {
        "id": "view-in-github",
        "colab_type": "text"
      },
      "source": [
        "<a href=\"https://colab.research.google.com/github/DrKenHo/TechnicalExercise2020/blob/master/deck.ipynb\" target=\"_parent\"><img src=\"https://colab.research.google.com/assets/colab-badge.svg\" alt=\"Open In Colab\"/></a>"
      ]
    },
    {
      "cell_type": "code",
      "metadata": {
        "id": "xYr7BlbLmys8",
        "colab_type": "code",
        "colab": {}
      },
      "source": [
        "import random\n",
        "import itertools\n",
        "\n",
        "class Deck:\n",
        "    def __init__(self):\n",
        "        # cards are represented by an index. Easiest to sort and shuffle.\n",
        "        self.cardindices = list(range(52))\n",
        "        # cards are indexed based on suits.\n",
        "        self.cards = list(itertools.product(['club', 'diamond', 'heart', 'spade'], [*range(2,11), *'JQKA']))\n",
        "        # dealt can be used to store all the cards that have been dealt\n",
        "        self.dealt = []\n",
        "    def shuffle(self):\n",
        "        random.shuffle(self.cardindices)\n",
        "    def sort(self):\n",
        "        self.cardindices.sort()\n",
        "    def deal(self):\n",
        "        dealcard_i = self.cardindices.pop()\n",
        "        self.dealt.append(dealcard_i)\n",
        "        return self.cards[dealcard_i]\n",
        "    def show_dealt(self):\n",
        "        for i in self.dealt:\n",
        "            print(self.cards[i])\n",
        "    def show_deck(self):\n",
        "        for i in self.cardindices:\n",
        "            print(self.cards[i])\n",
        "    def show_no_of_cards(self):\n",
        "        return len(self.cardindices)"
      ],
      "execution_count": 0,
      "outputs": []
    },
    {
      "cell_type": "code",
      "metadata": {
        "id": "tp7pU8IOmytE",
        "colab_type": "code",
        "colab": {}
      },
      "source": [
        "deck = Deck()"
      ],
      "execution_count": 0,
      "outputs": []
    },
    {
      "cell_type": "code",
      "metadata": {
        "id": "UquW9vw5mytK",
        "colab_type": "code",
        "colab": {
          "base_uri": "https://localhost:8080/",
          "height": 901
        },
        "outputId": "90fe4dfd-ac16-4abd-9f1e-9f3009a538eb"
      },
      "source": [
        "deck.show_deck()"
      ],
      "execution_count": 19,
      "outputs": [
        {
          "output_type": "stream",
          "text": [
            "('club', 2)\n",
            "('club', 3)\n",
            "('club', 4)\n",
            "('club', 5)\n",
            "('club', 6)\n",
            "('club', 7)\n",
            "('club', 8)\n",
            "('club', 9)\n",
            "('club', 10)\n",
            "('club', 'J')\n",
            "('club', 'Q')\n",
            "('club', 'K')\n",
            "('club', 'A')\n",
            "('diamond', 2)\n",
            "('diamond', 3)\n",
            "('diamond', 4)\n",
            "('diamond', 5)\n",
            "('diamond', 6)\n",
            "('diamond', 7)\n",
            "('diamond', 8)\n",
            "('diamond', 9)\n",
            "('diamond', 10)\n",
            "('diamond', 'J')\n",
            "('diamond', 'Q')\n",
            "('diamond', 'K')\n",
            "('diamond', 'A')\n",
            "('heart', 2)\n",
            "('heart', 3)\n",
            "('heart', 4)\n",
            "('heart', 5)\n",
            "('heart', 6)\n",
            "('heart', 7)\n",
            "('heart', 8)\n",
            "('heart', 9)\n",
            "('heart', 10)\n",
            "('heart', 'J')\n",
            "('heart', 'Q')\n",
            "('heart', 'K')\n",
            "('heart', 'A')\n",
            "('spade', 2)\n",
            "('spade', 3)\n",
            "('spade', 4)\n",
            "('spade', 5)\n",
            "('spade', 6)\n",
            "('spade', 7)\n",
            "('spade', 8)\n",
            "('spade', 9)\n",
            "('spade', 10)\n",
            "('spade', 'J')\n",
            "('spade', 'Q')\n",
            "('spade', 'K')\n",
            "('spade', 'A')\n"
          ],
          "name": "stdout"
        }
      ]
    },
    {
      "cell_type": "code",
      "metadata": {
        "id": "_fEOVsgimytQ",
        "colab_type": "code",
        "colab": {
          "base_uri": "https://localhost:8080/",
          "height": 34
        },
        "outputId": "8e46a9ec-71ed-4f0a-93d7-c17c9ba27a43"
      },
      "source": [
        "deck.deal()"
      ],
      "execution_count": 20,
      "outputs": [
        {
          "output_type": "execute_result",
          "data": {
            "text/plain": [
              "('spade', 'A')"
            ]
          },
          "metadata": {
            "tags": []
          },
          "execution_count": 20
        }
      ]
    },
    {
      "cell_type": "code",
      "metadata": {
        "id": "1-mYOUMPmytW",
        "colab_type": "code",
        "colab": {
          "base_uri": "https://localhost:8080/",
          "height": 34
        },
        "outputId": "6c1c20dd-0b00-4306-f28b-e8fb1f4e4bf3"
      },
      "source": [
        "deck.deal()"
      ],
      "execution_count": 21,
      "outputs": [
        {
          "output_type": "execute_result",
          "data": {
            "text/plain": [
              "('spade', 'K')"
            ]
          },
          "metadata": {
            "tags": []
          },
          "execution_count": 21
        }
      ]
    },
    {
      "cell_type": "code",
      "metadata": {
        "id": "1Ybkt4K7mytb",
        "colab_type": "code",
        "colab": {}
      },
      "source": [
        "deck.shuffle()"
      ],
      "execution_count": 0,
      "outputs": []
    },
    {
      "cell_type": "code",
      "metadata": {
        "id": "q2DNHJoqmyth",
        "colab_type": "code",
        "colab": {
          "base_uri": "https://localhost:8080/",
          "height": 867
        },
        "outputId": "4eaa6c16-0bcb-42f6-9fb4-4341bac3b590"
      },
      "source": [
        "deck.show_deck()"
      ],
      "execution_count": 23,
      "outputs": [
        {
          "output_type": "stream",
          "text": [
            "('spade', 2)\n",
            "('heart', 'J')\n",
            "('club', 3)\n",
            "('spade', 'J')\n",
            "('diamond', 5)\n",
            "('club', 6)\n",
            "('heart', 10)\n",
            "('heart', 'A')\n",
            "('heart', 7)\n",
            "('spade', 'Q')\n",
            "('heart', 2)\n",
            "('heart', 4)\n",
            "('heart', 6)\n",
            "('diamond', 4)\n",
            "('club', 'Q')\n",
            "('club', 2)\n",
            "('heart', 8)\n",
            "('spade', 9)\n",
            "('club', 'A')\n",
            "('diamond', 9)\n",
            "('club', 4)\n",
            "('diamond', 2)\n",
            "('diamond', 8)\n",
            "('diamond', 'A')\n",
            "('diamond', 10)\n",
            "('diamond', 6)\n",
            "('diamond', 7)\n",
            "('spade', 5)\n",
            "('spade', 7)\n",
            "('heart', 9)\n",
            "('club', 7)\n",
            "('diamond', 3)\n",
            "('club', 5)\n",
            "('spade', 8)\n",
            "('club', 8)\n",
            "('diamond', 'K')\n",
            "('diamond', 'J')\n",
            "('club', 'K')\n",
            "('heart', 3)\n",
            "('diamond', 'Q')\n",
            "('club', 9)\n",
            "('club', 10)\n",
            "('heart', 5)\n",
            "('heart', 'K')\n",
            "('spade', 3)\n",
            "('spade', 6)\n",
            "('club', 'J')\n",
            "('spade', 4)\n",
            "('heart', 'Q')\n",
            "('spade', 10)\n"
          ],
          "name": "stdout"
        }
      ]
    },
    {
      "cell_type": "code",
      "metadata": {
        "id": "HutTHD2Amytm",
        "colab_type": "code",
        "colab": {
          "base_uri": "https://localhost:8080/",
          "height": 34
        },
        "outputId": "38b43fa7-c3da-4f62-9414-0ef420bef151"
      },
      "source": [
        "deck.deal()"
      ],
      "execution_count": 24,
      "outputs": [
        {
          "output_type": "execute_result",
          "data": {
            "text/plain": [
              "('spade', 10)"
            ]
          },
          "metadata": {
            "tags": []
          },
          "execution_count": 24
        }
      ]
    },
    {
      "cell_type": "code",
      "metadata": {
        "id": "u93TBQEumytq",
        "colab_type": "code",
        "colab": {
          "base_uri": "https://localhost:8080/",
          "height": 34
        },
        "outputId": "fd982a4f-7e8a-4b7d-c488-cbdb9b1f0f5d"
      },
      "source": [
        "deck.deal()"
      ],
      "execution_count": 25,
      "outputs": [
        {
          "output_type": "execute_result",
          "data": {
            "text/plain": [
              "('heart', 'Q')"
            ]
          },
          "metadata": {
            "tags": []
          },
          "execution_count": 25
        }
      ]
    },
    {
      "cell_type": "code",
      "metadata": {
        "id": "fKu-z-BMmytv",
        "colab_type": "code",
        "colab": {
          "base_uri": "https://localhost:8080/",
          "height": 34
        },
        "outputId": "2fb471f5-8dd6-4f8d-f2a8-655f8786d89b"
      },
      "source": [
        "deck.deal()"
      ],
      "execution_count": 26,
      "outputs": [
        {
          "output_type": "execute_result",
          "data": {
            "text/plain": [
              "('spade', 4)"
            ]
          },
          "metadata": {
            "tags": []
          },
          "execution_count": 26
        }
      ]
    },
    {
      "cell_type": "code",
      "metadata": {
        "id": "lX6PGGJKmyt0",
        "colab_type": "code",
        "colab": {
          "base_uri": "https://localhost:8080/",
          "height": 102
        },
        "outputId": "c4db0904-83c9-4188-84f4-2abfc2d05fa0"
      },
      "source": [
        "deck.show_dealt()"
      ],
      "execution_count": 27,
      "outputs": [
        {
          "output_type": "stream",
          "text": [
            "('spade', 'A')\n",
            "('spade', 'K')\n",
            "('spade', 10)\n",
            "('heart', 'Q')\n",
            "('spade', 4)\n"
          ],
          "name": "stdout"
        }
      ]
    },
    {
      "cell_type": "code",
      "metadata": {
        "id": "l9e6TUD8myt5",
        "colab_type": "code",
        "colab": {}
      },
      "source": [
        "deck.sort()"
      ],
      "execution_count": 0,
      "outputs": []
    },
    {
      "cell_type": "code",
      "metadata": {
        "id": "OnTJlVN-myt-",
        "colab_type": "code",
        "colab": {
          "base_uri": "https://localhost:8080/",
          "height": 816
        },
        "outputId": "4289d01e-1b41-4000-81a1-62e34a2a1a51"
      },
      "source": [
        "deck.show_deck()"
      ],
      "execution_count": 29,
      "outputs": [
        {
          "output_type": "stream",
          "text": [
            "('club', 2)\n",
            "('club', 3)\n",
            "('club', 4)\n",
            "('club', 5)\n",
            "('club', 6)\n",
            "('club', 7)\n",
            "('club', 8)\n",
            "('club', 9)\n",
            "('club', 10)\n",
            "('club', 'J')\n",
            "('club', 'Q')\n",
            "('club', 'K')\n",
            "('club', 'A')\n",
            "('diamond', 2)\n",
            "('diamond', 3)\n",
            "('diamond', 4)\n",
            "('diamond', 5)\n",
            "('diamond', 6)\n",
            "('diamond', 7)\n",
            "('diamond', 8)\n",
            "('diamond', 9)\n",
            "('diamond', 10)\n",
            "('diamond', 'J')\n",
            "('diamond', 'Q')\n",
            "('diamond', 'K')\n",
            "('diamond', 'A')\n",
            "('heart', 2)\n",
            "('heart', 3)\n",
            "('heart', 4)\n",
            "('heart', 5)\n",
            "('heart', 6)\n",
            "('heart', 7)\n",
            "('heart', 8)\n",
            "('heart', 9)\n",
            "('heart', 10)\n",
            "('heart', 'J')\n",
            "('heart', 'K')\n",
            "('heart', 'A')\n",
            "('spade', 2)\n",
            "('spade', 3)\n",
            "('spade', 5)\n",
            "('spade', 6)\n",
            "('spade', 7)\n",
            "('spade', 8)\n",
            "('spade', 9)\n",
            "('spade', 'J')\n",
            "('spade', 'Q')\n"
          ],
          "name": "stdout"
        }
      ]
    },
    {
      "cell_type": "code",
      "metadata": {
        "id": "WhtVpongmyuD",
        "colab_type": "code",
        "colab": {
          "base_uri": "https://localhost:8080/",
          "height": 102
        },
        "outputId": "b8b18d50-6643-46fe-f31b-d6ac36ea49a9"
      },
      "source": [
        "deck.show_dealt()"
      ],
      "execution_count": 30,
      "outputs": [
        {
          "output_type": "stream",
          "text": [
            "('spade', 'A')\n",
            "('spade', 'K')\n",
            "('spade', 10)\n",
            "('heart', 'Q')\n",
            "('spade', 4)\n"
          ],
          "name": "stdout"
        }
      ]
    },
    {
      "cell_type": "code",
      "metadata": {
        "id": "5Ei6ANTEmyuI",
        "colab_type": "code",
        "colab": {
          "base_uri": "https://localhost:8080/",
          "height": 34
        },
        "outputId": "d6efad1b-4924-4a72-fdf1-6324347ac454"
      },
      "source": [
        "deck.show_no_of_cards()"
      ],
      "execution_count": 31,
      "outputs": [
        {
          "output_type": "execute_result",
          "data": {
            "text/plain": [
              "47"
            ]
          },
          "metadata": {
            "tags": []
          },
          "execution_count": 31
        }
      ]
    },
    {
      "cell_type": "code",
      "metadata": {
        "id": "ph3cLp2wmyuR",
        "colab_type": "code",
        "colab": {}
      },
      "source": [
        ""
      ],
      "execution_count": 0,
      "outputs": []
    }
  ]
}